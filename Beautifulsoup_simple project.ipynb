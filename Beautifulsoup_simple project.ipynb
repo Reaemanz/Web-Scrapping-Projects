{
 "cells": [
  {
   "cell_type": "markdown",
   "metadata": {},
   "source": [
    "# WORKING WITH BEAUTFULSOUP"
   ]
  },
  {
   "cell_type": "code",
   "execution_count": 2,
   "metadata": {},
   "outputs": [],
   "source": [
    "from bs4 import BeautifulSoup\n",
    "import sys"
   ]
  },
  {
   "cell_type": "code",
   "execution_count": 3,
   "metadata": {},
   "outputs": [
    {
     "name": "stdout",
     "output_type": "stream",
     "text": [
      "<!DOCTYPE html>\n",
      "<html>\n",
      " <head>\n",
      "  <meta charset=\"utf-8\"/>\n",
      "  <title>\n",
      "   Angela's Personal Site\n",
      "  </title>\n",
      " </head>\n",
      " <body>\n",
      "  <h1 id=\"name\">\n",
      "   Angela Yu\n",
      "  </h1>\n",
      "  <p>\n",
      "   <em>\n",
      "    Founder of\n",
      "    <strong>\n",
      "     <a href=\"https://www.appbrewery.co/\">\n",
      "      The App Brewery\n",
      "     </a>\n",
      "    </strong>\n",
      "    .\n",
      "   </em>\n",
      "  </p>\n",
      "  <p>\n",
      "   I am an iOS and Web Developer. I ❤️ coffee and motorcycles.\n",
      "  </p>\n",
      "  <hr/>\n",
      "  <h3 class=\"heading\">\n",
      "   Books and Teaching\n",
      "  </h3>\n",
      "  <ul>\n",
      "   <li>\n",
      "    The Complete iOS App Development Bootcamp\n",
      "   </li>\n",
      "   <li>\n",
      "    The Complete Web Development Bootcamp\n",
      "   </li>\n",
      "   <li>\n",
      "    100 Days of Code - The Complete Python Bootcamp\n",
      "   </li>\n",
      "  </ul>\n",
      "  <hr/>\n",
      "  <h3 class=\"heading\">\n",
      "   Other Pages\n",
      "  </h3>\n",
      "  <a href=\"https://angelabauer.github.io/cv/hobbies.html\">\n",
      "   My Hobbies\n",
      "  </a>\n",
      "  <a href=\"https://angelabauer.github.io/cv/contact-me.html\">\n",
      "   Contact Me\n",
      "  </a>\n",
      " </body>\n",
      "</html>\n",
      "\n"
     ]
    }
   ],
   "source": [
    "from bs4 import BeautifulSoup\n",
    "\n",
    "with open('website.html', 'r', encoding='utf-8') as file:\n",
    "    contents = file.read()\n",
    "\n",
    "soup = BeautifulSoup(contents, 'html.parser')\n",
    "\n",
    "# Print the soup object with encoding\n",
    "print(soup.prettify().encode('utf-8').decode('utf-8'))"
   ]
  },
  {
   "cell_type": "code",
   "execution_count": 5,
   "metadata": {},
   "outputs": [
    {
     "name": "stdout",
     "output_type": "stream",
     "text": [
      "title\n"
     ]
    }
   ],
   "source": [
    "print(soup.title.name)\n"
   ]
  },
  {
   "cell_type": "code",
   "execution_count": 6,
   "metadata": {},
   "outputs": [
    {
     "name": "stdout",
     "output_type": "stream",
     "text": [
      "Angela's Personal Site\n"
     ]
    }
   ],
   "source": [
    "print(soup.title.string)\n"
   ]
  },
  {
   "cell_type": "code",
   "execution_count": 7,
   "metadata": {},
   "outputs": [
    {
     "name": "stdout",
     "output_type": "stream",
     "text": [
      "<!DOCTYPE html>\n",
      "\n",
      "<html>\n",
      "<head>\n",
      "<meta charset=\"utf-8\"/>\n",
      "<title>Angela's Personal Site</title>\n",
      "</head>\n",
      "<body>\n",
      "<h1 id=\"name\">Angela Yu</h1>\n",
      "<p><em>Founder of <strong><a href=\"https://www.appbrewery.co/\">The App Brewery</a></strong>.</em></p>\n",
      "<p>I am an iOS and Web Developer. I ❤️ coffee and motorcycles.</p>\n",
      "<hr/>\n",
      "<h3 class=\"heading\">Books and Teaching</h3>\n",
      "<ul>\n",
      "<li>The Complete iOS App Development Bootcamp</li>\n",
      "<li>The Complete Web Development Bootcamp</li>\n",
      "<li>100 Days of Code - The Complete Python Bootcamp</li>\n",
      "</ul>\n",
      "<hr/>\n",
      "<h3 class=\"heading\">Other Pages</h3>\n",
      "<a href=\"https://angelabauer.github.io/cv/hobbies.html\">My Hobbies</a>\n",
      "<a href=\"https://angelabauer.github.io/cv/contact-me.html\">Contact Me</a>\n",
      "</body>\n",
      "</html>\n"
     ]
    }
   ],
   "source": [
    "print(soup) # print the website\n"
   ]
  },
  {
   "cell_type": "code",
   "execution_count": 8,
   "metadata": {},
   "outputs": [
    {
     "name": "stdout",
     "output_type": "stream",
     "text": [
      "<!DOCTYPE html>\n",
      "<html>\n",
      " <head>\n",
      "  <meta charset=\"utf-8\"/>\n",
      "  <title>\n",
      "   Angela's Personal Site\n",
      "  </title>\n",
      " </head>\n",
      " <body>\n",
      "  <h1 id=\"name\">\n",
      "   Angela Yu\n",
      "  </h1>\n",
      "  <p>\n",
      "   <em>\n",
      "    Founder of\n",
      "    <strong>\n",
      "     <a href=\"https://www.appbrewery.co/\">\n",
      "      The App Brewery\n",
      "     </a>\n",
      "    </strong>\n",
      "    .\n",
      "   </em>\n",
      "  </p>\n",
      "  <p>\n",
      "   I am an iOS and Web Developer. I ❤️ coffee and motorcycles.\n",
      "  </p>\n",
      "  <hr/>\n",
      "  <h3 class=\"heading\">\n",
      "   Books and Teaching\n",
      "  </h3>\n",
      "  <ul>\n",
      "   <li>\n",
      "    The Complete iOS App Development Bootcamp\n",
      "   </li>\n",
      "   <li>\n",
      "    The Complete Web Development Bootcamp\n",
      "   </li>\n",
      "   <li>\n",
      "    100 Days of Code - The Complete Python Bootcamp\n",
      "   </li>\n",
      "  </ul>\n",
      "  <hr/>\n",
      "  <h3 class=\"heading\">\n",
      "   Other Pages\n",
      "  </h3>\n",
      "  <a href=\"https://angelabauer.github.io/cv/hobbies.html\">\n",
      "   My Hobbies\n",
      "  </a>\n",
      "  <a href=\"https://angelabauer.github.io/cv/contact-me.html\">\n",
      "   Contact Me\n",
      "  </a>\n",
      " </body>\n",
      "</html>\n",
      "\n"
     ]
    }
   ],
   "source": [
    "print(soup.prettify()) # indented version of the site\n"
   ]
  },
  {
   "cell_type": "code",
   "execution_count": 9,
   "metadata": {},
   "outputs": [
    {
     "name": "stdout",
     "output_type": "stream",
     "text": [
      "<a href=\"https://www.appbrewery.co/\">The App Brewery</a>\n"
     ]
    }
   ],
   "source": [
    "print(soup.a)"
   ]
  },
  {
   "cell_type": "code",
   "execution_count": 10,
   "metadata": {},
   "outputs": [
    {
     "name": "stdout",
     "output_type": "stream",
     "text": [
      "[<a href=\"https://www.appbrewery.co/\">The App Brewery</a>, <a href=\"https://angelabauer.github.io/cv/hobbies.html\">My Hobbies</a>, <a href=\"https://angelabauer.github.io/cv/contact-me.html\">Contact Me</a>]\n"
     ]
    }
   ],
   "source": [
    "all_anchor_tags = soup.find_all(name='a')\n",
    "print(all_anchor_tags)\n"
   ]
  },
  {
   "cell_type": "code",
   "execution_count": 11,
   "metadata": {},
   "outputs": [
    {
     "name": "stdout",
     "output_type": "stream",
     "text": [
      "https://www.appbrewery.co/\n",
      "https://angelabauer.github.io/cv/hobbies.html\n",
      "https://angelabauer.github.io/cv/contact-me.html\n",
      "<h1 id=\"name\">Angela Yu</h1>\n"
     ]
    }
   ],
   "source": [
    "for tag in all_anchor_tags:\n",
    "    #print(tag.getText())\n",
    "    print(tag.get('href')) # bring a list of all the links\n",
    "    \n",
    "heading = soup.find(name = 'h1', id = 'name')\n",
    "print(heading)"
   ]
  },
  {
   "cell_type": "code",
   "execution_count": 12,
   "metadata": {},
   "outputs": [
    {
     "name": "stdout",
     "output_type": "stream",
     "text": [
      "<h3 class=\"heading\">Books and Teaching</h3>\n"
     ]
    }
   ],
   "source": [
    "section_heading = soup.find(name = 'h3', class_ = 'heading') # get h3 tags where class is heading\n",
    "print(section_heading)"
   ]
  },
  {
   "cell_type": "code",
   "execution_count": 13,
   "metadata": {},
   "outputs": [
    {
     "name": "stdout",
     "output_type": "stream",
     "text": [
      "Books and Teaching\n"
     ]
    }
   ],
   "source": [
    "print(section_heading.getText())"
   ]
  },
  {
   "cell_type": "code",
   "execution_count": 17,
   "metadata": {},
   "outputs": [
    {
     "name": "stdout",
     "output_type": "stream",
     "text": [
      "h3\n"
     ]
    }
   ],
   "source": [
    "section_heading = soup.find(name = 'h3', class_ = 'heading')\n",
    "print(section_heading.name)"
   ]
  },
  {
   "cell_type": "code",
   "execution_count": 18,
   "metadata": {},
   "outputs": [
    {
     "name": "stdout",
     "output_type": "stream",
     "text": [
      "['heading']\n"
     ]
    }
   ],
   "source": [
    "print(section_heading.get('class'))"
   ]
  },
  {
   "cell_type": "markdown",
   "metadata": {},
   "source": [
    "# EXCEPTIONS\n",
    "Using CSS SELECTOS"
   ]
  },
  {
   "cell_type": "code",
   "execution_count": 20,
   "metadata": {},
   "outputs": [
    {
     "name": "stdout",
     "output_type": "stream",
     "text": [
      "<a href=\"https://www.appbrewery.co/\">The App Brewery</a>\n"
     ]
    }
   ],
   "source": [
    "company_url = soup.select_one(selector= 'p a')\n",
    "print(company_url)"
   ]
  },
  {
   "cell_type": "code",
   "execution_count": 21,
   "metadata": {},
   "outputs": [
    {
     "name": "stdout",
     "output_type": "stream",
     "text": [
      "<h1 id=\"name\">Angela Yu</h1>\n"
     ]
    }
   ],
   "source": [
    "# Class selectors\n",
    "name = soup.select_one(selector= '#name')\n",
    "print(name)\n"
   ]
  },
  {
   "cell_type": "code",
   "execution_count": 22,
   "metadata": {},
   "outputs": [
    {
     "data": {
      "text/plain": [
       "[<h3 class=\"heading\">Books and Teaching</h3>,\n",
       " <h3 class=\"heading\">Other Pages</h3>]"
      ]
     },
     "execution_count": 22,
     "metadata": {},
     "output_type": "execute_result"
    }
   ],
   "source": [
    "# selecting an element by class\n",
    "soup.select('.heading')"
   ]
  }
 ],
 "metadata": {
  "kernelspec": {
   "display_name": "Python 3",
   "language": "python",
   "name": "python3"
  },
  "language_info": {
   "codemirror_mode": {
    "name": "ipython",
    "version": 3
   },
   "file_extension": ".py",
   "mimetype": "text/x-python",
   "name": "python",
   "nbconvert_exporter": "python",
   "pygments_lexer": "ipython3",
   "version": "3.11.4"
  }
 },
 "nbformat": 4,
 "nbformat_minor": 2
}
