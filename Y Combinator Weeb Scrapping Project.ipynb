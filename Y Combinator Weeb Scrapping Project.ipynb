{
 "cells": [
  {
   "cell_type": "markdown",
   "metadata": {},
   "source": [
    "# SCRAPPING A LIVE WEBSITE"
   ]
  },
  {
   "cell_type": "code",
   "execution_count": 21,
   "metadata": {},
   "outputs": [],
   "source": [
    "import requests\n",
    "response = requests.get('https://news.ycombinator.com/news')\n",
    "yc_wb_page = response.text"
   ]
  },
  {
   "cell_type": "code",
   "execution_count": 22,
   "metadata": {},
   "outputs": [
    {
     "name": "stdout",
     "output_type": "stream",
     "text": [
      "<title>Hacker News</title>\n"
     ]
    }
   ],
   "source": [
    "from bs4 import BeautifulSoup\n",
    "soup = BeautifulSoup(yc_wb_page, 'html.parser')\n",
    "print(soup.title)"
   ]
  },
  {
   "cell_type": "code",
   "execution_count": 24,
   "metadata": {},
   "outputs": [
    {
     "name": "stdout",
     "output_type": "stream",
     "text": [
      "It seems routine to see a bunch of browser User-Agents from the same IP (utcc.utoronto.ca)\n"
     ]
    }
   ],
   "source": [
    "article_tag = soup.find(name='span', class_= 'titleline')\n",
    "print(article_tag.getText())"
   ]
  },
  {
   "cell_type": "code",
   "execution_count": 26,
   "metadata": {},
   "outputs": [
    {
     "name": "stdout",
     "output_type": "stream",
     "text": [
      "Link: https://utcc.utoronto.ca/~cks/space/blog/web/MultipleUserAgentsSameIP\n",
      "Title: It seems routine to see a bunch of browser User-Agents from the same IP\n",
      "Upvote: 14 points\n"
     ]
    }
   ],
   "source": [
    "# Find the span with class 'titleline'\n",
    "span_tag = soup.find('span', class_='titleline')\n",
    "\n",
    "if span_tag:\n",
    "    # Find the a tag inside the span tag\n",
    "    article_tag = span_tag.find('a')\n",
    "    if article_tag:\n",
    "        # Extract the href attribute and the text\n",
    "        link = article_tag.get('href')\n",
    "        title = article_tag.text\n",
    "        upvote = soup.find(name = 'span', class_ = 'score').getText()\n",
    "        print(f'Link: {link}')\n",
    "        print(f'Title: {title}')\n",
    "        print(f'Upvote: {upvote}')\n",
    "    else:\n",
    "        print(\"No <a> tag found inside the span with class 'titleline'.\")\n",
    "else:\n",
    "    print(\"No span with class 'titleline' found.\")"
   ]
  },
  {
   "cell_type": "markdown",
   "metadata": {},
   "source": [
    "# GETTING ALL TITLES, LINKS AND UPVOTES"
   ]
  },
  {
   "cell_type": "code",
   "execution_count": 27,
   "metadata": {},
   "outputs": [
    {
     "name": "stdout",
     "output_type": "stream",
     "text": [
      "Found 30 span tags with class \"titleline\".\n",
      "Title: It seems routine to see a bunch of browser User-Agents from the same IP, Link: https://utcc.utoronto.ca/~cks/space/blog/web/MultipleUserAgentsSameIP, Upvote: 14 points\n",
      "Title: Allan McDonald Refused To Approve Challenger Launch, Exposed Cover-Up (2021), Link: https://www.npr.org/2021/03/07/974534021/remembering-allan-mcdonald-he-refused-to-approve-challenger-launch-exposed-cover, Upvote: 252 points\n",
      "Title: Electromechanical Lunar Lander, Link: http://www.chrisfenton.com/electromechanical-lunar-lander/, Upvote: 31 points\n",
      "Title: MeshAnything – converts 3D representations into efficient 3D meshes, Link: https://buaacyw.github.io/mesh-anything/, Upvote: 194 points\n",
      "Title: Show HN: I made a puzzle game that gently introduces my favorite math mysteries, Link: https://www.rahulilango.com/coloring/, Upvote: 888 points\n",
      "Title: Code Models, Link: https://openjdk.org/projects/babylon/articles/code-models, Upvote: 46 points\n",
      "Title: Wireless power transfer system achieves 270-kilowatt charge, Link: https://www.ornl.gov/news/polyphase-wireless-power-transfer-system-achieves-270-kilowatt-charge-sets-another-world, Upvote: 4 points\n",
      "Title: Athelas (YC S16) Is Hiring a Senior Full-Stack Software Engineer, Link: https://www.athelas.com/careers?ashby_jid=55c6a105-80be-40b1-8644-cd44f48f1d08, Upvote: No upvote\n",
      "Title: Algorithmic Fitting of Japanese Candy, Link: https://www.candyjapan.com/behind-the-scenes/algorithmic-fitting-of-japanese-candy, Upvote: 45 points\n",
      "Title: Ask HN: What indoor CO2 monitor do you recommend?, Link: item?id=40749275, Upvote: 14 points\n",
      "Title: Tetris Font (2020), Link: https://erikdemaine.org/fonts/tetris/, Upvote: 687 points\n",
      "Title: Chasing a Bug in a SAT Solver, Link: https://ochagavia.nl/blog/chasing-a-bug-in-a-sat-solver/, Upvote: 47 points\n",
      "Title: Advanced Text Features and PDF, Link: https://nibblestew.blogspot.com/2024/06/advanced-text-features-and-pdf.html, Upvote: 4 points\n",
      "Title: Bomb Jack display hardware, Link: https://github.com/martinpiper/BombJack/blob/master/README.md, Upvote: 90 points\n",
      "Title: We no longer use LangChain for building our AI agents, Link: https://www.octomind.dev/blog/why-we-no-longer-use-langchain-for-building-our-ai-agents, Upvote: 325 points\n",
      "Title: Show HN: Local voice assistant using Ollama, transformers and Coqui TTS toolkit, Link: https://github.com/mezbaul-h/june, Upvote: 104 points\n",
      "Title: Fuzz Map, Link: https://www.fuzzmap.io/, Upvote: 232 points\n",
      "Title: Atkinson Dithering (2021), Link: https://beyondloom.com/blog/dither.html, Upvote: 218 points\n",
      "Title: Wc2: Investigates optimizing 'wc', the Unix word count program, Link: https://github.com/robertdavidgraham/wc2, Upvote: 233 points\n",
      "Title: Section 230 Sunset Act Would Cut Off Young People's Access to Online Communities, Link: https://www.teenvogue.com/story/section-230-sunset-act-young-people, Upvote: 11 points\n",
      "Title: Bog gravel filtration: Water cleaned by mother nature (2015), Link: https://www.pondtrademag.com/bog-gravel-filtration-water-cleaned-by-mother-nature/, Upvote: 63 points\n",
      "Title: The Back of the Envelope (1984) [pdf], Link: https://www.seltzer.com/margo/teaching/CS508.19/background/p180-bentley.pdf, Upvote: 22 points\n",
      "Title: How babies and young children learn to understand language, Link: https://lithub.com/how-babies-and-young-children-learn-to-understand-language/, Upvote: 185 points\n",
      "Title: Gilead shot prevents all HIV cases in trial, Link: https://www.bloomberg.com/news/articles/2024-06-20/gilead-shot-prevents-100-of-hiv-cases-in-trial-of-african-women, Upvote: 696 points\n",
      "Title: Let's write a video game from scratch like it's 1987, Link: https://gaultier.github.io/blog/write_a_video_game_from_scratch_like_1987.html, Upvote: 250 points\n",
      "Title: Generating audio for video, Link: https://deepmind.google/discover/blog/generating-audio-for-video/, Upvote: 94 points\n",
      "Title: NASA releases Hubble image taken in new pointing mode, Link: https://science.nasa.gov/missions/hubble/nasa-releases-hubble-image-taken-in-new-pointing-mode/, Upvote: 275 points\n",
      "Title: EU Council has withdrawn the vote on Chat Control, Link: https://stackdiary.com/eu-council-has-withdrawn-the-vote-on-chat-control/, Upvote: 1125 points\n",
      "Title: FDA Expands Approval of Gene Therapy for Patients with Muscular Dystrophy, Link: https://www.fda.gov/news-events/press-announcements/fda-expands-approval-gene-therapy-patients-duchenne-muscular-dystrophy, Upvote: 13 points\n",
      "Title: Notes on Tajikistan, Link: https://mattlakeman.org/2024/06/20/notes-on-tajikistan/, Upvote: 269 points\n",
      "                                                Title  \\\n",
      "0   It seems routine to see a bunch of browser Use...   \n",
      "1   Allan McDonald Refused To Approve Challenger L...   \n",
      "2                      Electromechanical Lunar Lander   \n",
      "3   MeshAnything – converts 3D representations int...   \n",
      "4   Show HN: I made a puzzle game that gently intr...   \n",
      "5                                         Code Models   \n",
      "6   Wireless power transfer system achieves 270-ki...   \n",
      "7   Athelas (YC S16) Is Hiring a Senior Full-Stack...   \n",
      "8               Algorithmic Fitting of Japanese Candy   \n",
      "9   Ask HN: What indoor CO2 monitor do you recommend?   \n",
      "10                                 Tetris Font (2020)   \n",
      "11                      Chasing a Bug in a SAT Solver   \n",
      "12                     Advanced Text Features and PDF   \n",
      "13                         Bomb Jack display hardware   \n",
      "14  We no longer use LangChain for building our AI...   \n",
      "15  Show HN: Local voice assistant using Ollama, t...   \n",
      "16                                           Fuzz Map   \n",
      "17                          Atkinson Dithering (2021)   \n",
      "18  Wc2: Investigates optimizing 'wc', the Unix wo...   \n",
      "19  Section 230 Sunset Act Would Cut Off Young Peo...   \n",
      "20  Bog gravel filtration: Water cleaned by mother...   \n",
      "21              The Back of the Envelope (1984) [pdf]   \n",
      "22  How babies and young children learn to underst...   \n",
      "23        Gilead shot prevents all HIV cases in trial   \n",
      "24  Let's write a video game from scratch like it'...   \n",
      "25                         Generating audio for video   \n",
      "26  NASA releases Hubble image taken in new pointi...   \n",
      "27  EU Council has withdrawn the vote on Chat Control   \n",
      "28  FDA Expands Approval of Gene Therapy for Patie...   \n",
      "29                                Notes on Tajikistan   \n",
      "\n",
      "                                                 Link       Upvote  \n",
      "0   https://utcc.utoronto.ca/~cks/space/blog/web/M...    14 points  \n",
      "1   https://www.npr.org/2021/03/07/974534021/remem...   252 points  \n",
      "2   http://www.chrisfenton.com/electromechanical-l...    31 points  \n",
      "3            https://buaacyw.github.io/mesh-anything/   194 points  \n",
      "4               https://www.rahulilango.com/coloring/   888 points  \n",
      "5   https://openjdk.org/projects/babylon/articles/...    46 points  \n",
      "6   https://www.ornl.gov/news/polyphase-wireless-p...     4 points  \n",
      "7   https://www.athelas.com/careers?ashby_jid=55c6...    No upvote  \n",
      "8   https://www.candyjapan.com/behind-the-scenes/a...    45 points  \n",
      "9                                    item?id=40749275    14 points  \n",
      "10              https://erikdemaine.org/fonts/tetris/   687 points  \n",
      "11  https://ochagavia.nl/blog/chasing-a-bug-in-a-s...    47 points  \n",
      "12  https://nibblestew.blogspot.com/2024/06/advanc...     4 points  \n",
      "13  https://github.com/martinpiper/BombJack/blob/m...    90 points  \n",
      "14  https://www.octomind.dev/blog/why-we-no-longer...   325 points  \n",
      "15                  https://github.com/mezbaul-h/june   104 points  \n",
      "16                            https://www.fuzzmap.io/   232 points  \n",
      "17            https://beyondloom.com/blog/dither.html   218 points  \n",
      "18           https://github.com/robertdavidgraham/wc2   233 points  \n",
      "19  https://www.teenvogue.com/story/section-230-su...    11 points  \n",
      "20  https://www.pondtrademag.com/bog-gravel-filtra...    63 points  \n",
      "21  https://www.seltzer.com/margo/teaching/CS508.1...    22 points  \n",
      "22  https://lithub.com/how-babies-and-young-childr...   185 points  \n",
      "23  https://www.bloomberg.com/news/articles/2024-0...   696 points  \n",
      "24  https://gaultier.github.io/blog/write_a_video_...   250 points  \n",
      "25  https://deepmind.google/discover/blog/generati...    94 points  \n",
      "26  https://science.nasa.gov/missions/hubble/nasa-...   275 points  \n",
      "27  https://stackdiary.com/eu-council-has-withdraw...  1125 points  \n",
      "28  https://www.fda.gov/news-events/press-announce...    13 points  \n",
      "29  https://mattlakeman.org/2024/06/20/notes-on-ta...   269 points  \n"
     ]
    }
   ],
   "source": [
    "import pandas as pd\n",
    "\n",
    "# List to hold the data\n",
    "data = []\n",
    "\n",
    "# Find all span tags with class 'titleline'\n",
    "span_tags = soup.find_all('span', class_='titleline')\n",
    "\n",
    "# Print the number of span tags found\n",
    "print(f'Found {len(span_tags)} span tags with class \"titleline\".')\n",
    "\n",
    "# Iterate over each span tag with the class 'titleline'\n",
    "for span_tag in span_tags:\n",
    "    # Find the 'a' tag inside each span tag\n",
    "    article_tag = span_tag.find('a')\n",
    "    if article_tag:\n",
    "        # Extract the href attribute and the text\n",
    "        link = article_tag.get('href')\n",
    "        title = article_tag.text\n",
    "\n",
    "        # Find the corresponding upvote span\n",
    "        upvote_tag = span_tag.find_parent('tr').find_next_sibling('tr').find('span', class_='score')\n",
    "        upvote = upvote_tag.get_text() if upvote_tag else 'No upvote'\n",
    "\n",
    "        # Print the extracted information for debugging\n",
    "        print(f'Title: {title}, Link: {link}, Upvote: {upvote}')\n",
    "\n",
    "        # Add the data to the list\n",
    "        data.append({'Title': title, 'Link': link, 'Upvote': upvote})\n",
    "\n",
    "# Convert the list of dictionaries to a pandas DataFrame\n",
    "df = pd.DataFrame(data)\n",
    "\n",
    "# Display the DataFrame\n",
    "print(df)\n",
    "\n",
    "# Save DataFrame to a file for further inspection if needed\n",
    "#df.to_csv('/mnt/data/extracted_data.csv', index=False)"
   ]
  }
 ],
 "metadata": {
  "kernelspec": {
   "display_name": "Python 3",
   "language": "python",
   "name": "python3"
  },
  "language_info": {
   "codemirror_mode": {
    "name": "ipython",
    "version": 3
   },
   "file_extension": ".py",
   "mimetype": "text/x-python",
   "name": "python",
   "nbconvert_exporter": "python",
   "pygments_lexer": "ipython3",
   "version": "3.11.4"
  }
 },
 "nbformat": 4,
 "nbformat_minor": 2
}
